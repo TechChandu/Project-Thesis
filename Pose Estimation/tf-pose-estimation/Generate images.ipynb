{
 "cells": [
  {
   "cell_type": "code",
   "execution_count": 1,
   "id": "a57f1f74",
   "metadata": {},
   "outputs": [],
   "source": [
    "import os\n",
    "import pickle \n",
    "from pathlib import Path\n",
    "import statistics \n",
    "import math\n",
    "import pandas as pd\n",
    "import numpy as np\n",
    "import cv2\n",
    "import matplotlib\n",
    "import matplotlib.pyplot as plt"
   ]
  },
  {
   "cell_type": "code",
   "execution_count": 5,
   "id": "6616d523",
   "metadata": {},
   "outputs": [],
   "source": [
    "box_path = '/home/chandu/Desktop/Pose Estimation/tf-pose-estimation/output/batsmen_box/out/'\n",
    "box_paths = sorted(Path(box_path).iterdir(), key=os.path.getmtime)\n",
    "image_path = '/home/chandu/Desktop/Batsmen_Images/Out/'\n",
    "save_path = '/home/chandu/Desktop/Batsmen_Box_Images/Out/'"
   ]
  },
  {
   "cell_type": "code",
   "execution_count": 6,
   "id": "a2376447",
   "metadata": {},
   "outputs": [],
   "source": [
    "for path in box_paths:\n",
    "    folder = str(path).split('/')[-1].split('.')[0].split('_')[-1]\n",
    "    if folder=='error': continue\n",
    "#     if folder=='1': continue\n",
    "    box_info = pickle.load(open(Path(str(path)), \"rb\" ))\n",
    "    images_folder = sorted(Path(image_path+folder).iterdir(), key=os.path.getmtime)\n",
    "    i=0\n",
    "    os.mkdir(save_path+folder)\n",
    "    for images in images_folder:\n",
    "        if(i==len(box_info)): break\n",
    "        image = cv2.imread(str(images))\n",
    "        if image is None: break\n",
    "        x = (int) (box_info[i][0]*1280)\n",
    "        y = (int) (box_info[i][1]*720)\n",
    "        w = (int) (box_info[i][2]*1280//2)\n",
    "        h = (int) (box_info[i][3]*720//2)\n",
    "        crop = image[y-h:y+h, x-w:x+w]\n",
    "        try:\n",
    "            cv2.imwrite(save_path+folder+\"/%d.jpg\" %i,crop)\n",
    "        except:\n",
    "            print(\"folder \",folder,\" image \",i)\n",
    "            print(x,y,w,h)\n",
    "        i += 1"
   ]
  },
  {
   "cell_type": "code",
   "execution_count": null,
   "id": "67da87a8",
   "metadata": {},
   "outputs": [],
   "source": []
  },
  {
   "cell_type": "code",
   "execution_count": null,
   "id": "a161d93c",
   "metadata": {},
   "outputs": [],
   "source": []
  }
 ],
 "metadata": {
  "kernelspec": {
   "display_name": "Python 3",
   "language": "python",
   "name": "python3"
  },
  "language_info": {
   "codemirror_mode": {
    "name": "ipython",
    "version": 3
   },
   "file_extension": ".py",
   "mimetype": "text/x-python",
   "name": "python",
   "nbconvert_exporter": "python",
   "pygments_lexer": "ipython3",
   "version": "3.8.5"
  }
 },
 "nbformat": 4,
 "nbformat_minor": 5
}
