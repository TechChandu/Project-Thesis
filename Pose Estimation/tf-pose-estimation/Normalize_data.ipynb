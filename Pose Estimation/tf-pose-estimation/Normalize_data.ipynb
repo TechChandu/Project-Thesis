{
 "cells": [
  {
   "cell_type": "code",
   "execution_count": 21,
   "id": "duplicate-acquisition",
   "metadata": {},
   "outputs": [],
   "source": [
    "import os\n",
    "import pickle \n",
    "from pathlib import Path\n",
    "import statistics \n",
    "import math\n",
    "\n",
    "\n",
    "pose_path = '/home/chandu/Desktop/Pose Estimation/tf-pose-estimation/output/batsmen/misshit/'\n",
    "box_path = '/home/chandu/Desktop/Pose Estimation/tf-pose-estimation/output/batsmen_box/misshit/'\n",
    "output_path = '/home/chandu/Desktop/Pose Estimation/tf-pose-estimation/output/normalized/misshit/'\n",
    "pose_paths = sorted(Path(pose_path).iterdir(), key=os.path.getmtime)\n",
    "box_paths = sorted(Path(box_path).iterdir(), key=os.path.getmtime)\n",
    "for i in range(len(pose_paths)):\n",
    "    if str(pose_paths[i]).split('/')[-1].split('.')[0].split('_')[-1] != 'error':\n",
    "        box = box_path+str(pose_paths[i]).split('/')[-1]\n",
    "        normalize(pose_paths[i],box)\n",
    "    else:\n",
    "        dummy = []\n",
    "        save_path = output_path+ str(pose_paths[i]).split('/')[-1]\n",
    "        with open(save_path, 'wb') as f:\n",
    "            pickle.dump(dummy, f)"
   ]
  },
  {
   "cell_type": "code",
   "execution_count": 20,
   "id": "champion-forestry",
   "metadata": {},
   "outputs": [],
   "source": [
    "def normalize(pose,box):\n",
    "    pose_info = pickle.load(open(Path(str(pose)), \"rb\" ))\n",
    "    box_info = pickle.load(open(Path(str(box)),\"rb\"))\n",
    "    w = box_info[0][2]\n",
    "    h = box_info[0][3]\n",
    "    \n",
    "    if len(pose_info) != len(box_info):\n",
    "        print(pose)\n",
    "        print(box)\n",
    "        print(len(pose_info),len(box_info))\n",
    "#         return\n",
    "    n = min(len(box_info),len(pose_info))\n",
    "    for i in range(n):\n",
    "        if i == 0:\n",
    "            continue\n",
    "        else:\n",
    "            x = box_info[i][0]\n",
    "            y = box_info[i][1]\n",
    "            nw = box_info[i][2]\n",
    "            nh = box_info[i][3]\n",
    "            for part in pose_info[i].body_parts:\n",
    "                x1 = pose_info[i].body_parts.get(part).x\n",
    "                y1 = pose_info[i].body_parts.get(part).y\n",
    "                x_ = x + (x1-x)*(w/nw)\n",
    "                y_ = y + (y1-y)*(h/nh)\n",
    "                \n",
    "                pose_info[i].body_parts.get(part).x = x_\n",
    "                pose_info[i].body_parts.get(part).y = y_\n",
    "    save_path = output_path+str(pose).split('/')[-1]\n",
    "    with open(save_path, 'wb') as f:\n",
    "        pickle.dump(pose_info, f)"
   ]
  },
  {
   "cell_type": "code",
   "execution_count": 13,
   "id": "parental-encoding",
   "metadata": {},
   "outputs": [
    {
     "data": {
      "text/plain": [
       "35"
      ]
     },
     "execution_count": 13,
     "metadata": {},
     "output_type": "execute_result"
    }
   ],
   "source": []
  },
  {
   "cell_type": "code",
   "execution_count": null,
   "id": "premium-compression",
   "metadata": {},
   "outputs": [],
   "source": []
  }
 ],
 "metadata": {
  "kernelspec": {
   "display_name": "Python 3",
   "language": "python",
   "name": "python3"
  },
  "language_info": {
   "codemirror_mode": {
    "name": "ipython",
    "version": 3
   },
   "file_extension": ".py",
   "mimetype": "text/x-python",
   "name": "python",
   "nbconvert_exporter": "python",
   "pygments_lexer": "ipython3",
   "version": "3.9.5"
  }
 },
 "nbformat": 4,
 "nbformat_minor": 5
}
