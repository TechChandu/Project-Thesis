{
 "cells": [
  {
   "cell_type": "code",
   "execution_count": 1,
   "id": "4416040f",
   "metadata": {},
   "outputs": [],
   "source": [
    "import os\n",
    "from pathlib import Path\n",
    "import numpy as np\n",
    "import pandas as pd\n",
    "import pickle"
   ]
  },
  {
   "cell_type": "code",
   "execution_count": 21,
   "id": "816987bc",
   "metadata": {},
   "outputs": [
    {
     "name": "stdout",
     "output_type": "stream",
     "text": [
      "/home/chandu/Desktop/New_Batsmen_Box/Six/405/12.jpg\n",
      "/home/chandu/Desktop/New_Batsmen_Box/Six/446/13.jpg\n"
     ]
    }
   ],
   "source": [
    "csvpath = \"/home/chandu/Desktop/New_Batsmen_Box/CSV/all\"\n",
    "posepath = \"/home/chandu/Desktop/Pose Estimation/tf-pose-estimation/output/normalized\"\n",
    "outpath = \"/home/chandu/Desktop/New_Batsmen_Box/CSV/allpose\"\n",
    "videos = sorted(Path(csvpath).iterdir(), key=os.path.getmtime)\n",
    "sub_folder = {\"misshit\":\"miss\",\"six\":\"six\",\"out\":\"out\"}\n",
    "joints = [0,1,2,3,4,5,6,7,8,9,10,11,12,13]\n",
    "for video in videos:\n",
    "    video_frames = pd.read_csv(str(video))\n",
    "    folder = video_frames['FileName'][0].split('/')[-3].lower()\n",
    "    file = video_frames['FileName'][0].split('/')[-2]\n",
    "    try:\n",
    "        pose_frames = pickle.load(open(Path(posepath+\"/\"+folder+\"/\"+sub_folder[folder]+\"_\"+file+\".pkl\"),\"rb\"))\n",
    "    except:\n",
    "        print(video_frames['FileName'][0])\n",
    "    video_poses = []\n",
    "    for frame in video_frames['FileName']:\n",
    "        frame_no = int(frame.split('/')[-1].split('.')[0])\n",
    "        pose = pose_frames[frame_no]\n",
    "        pose_info = []\n",
    "        for j in joints:\n",
    "            try:\n",
    "                pose_info.append(pose.body_parts.get(j).x)\n",
    "                pose_info.append(pose.body_parts.get(j).y)\n",
    "            except:\n",
    "                pose_info.append(0)\n",
    "                pose_info.append(0)\n",
    "        video_poses.append(pose_info)\n",
    "    new_df = pd.concat([video_frames,pd.DataFrame(video_poses)],axis=1)\n",
    "    new_df.to_csv(outpath+\"/\"+str(video).split('/')[-1])"
   ]
  },
  {
   "cell_type": "code",
   "execution_count": 2,
   "id": "e5c39b9f",
   "metadata": {},
   "outputs": [],
   "source": []
  },
  {
   "cell_type": "code",
   "execution_count": null,
   "id": "foreign-mauritius",
   "metadata": {},
   "outputs": [],
   "source": []
  }
 ],
 "metadata": {
  "kernelspec": {
   "display_name": "Python 3",
   "language": "python",
   "name": "python3"
  },
  "language_info": {
   "codemirror_mode": {
    "name": "ipython",
    "version": 3
   },
   "file_extension": ".py",
   "mimetype": "text/x-python",
   "name": "python",
   "nbconvert_exporter": "python",
   "pygments_lexer": "ipython3",
   "version": "3.8.5"
  }
 },
 "nbformat": 4,
 "nbformat_minor": 5
}
