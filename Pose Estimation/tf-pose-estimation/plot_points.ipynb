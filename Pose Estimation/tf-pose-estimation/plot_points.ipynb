{
 "cells": [
  {
   "cell_type": "code",
   "execution_count": 4,
   "id": "thousand-louisville",
   "metadata": {},
   "outputs": [],
   "source": [
    "import cv2\n",
    "import pickle \n",
    "from pathlib import Path\n",
    "import numpy as np\n",
    "\n",
    "url = '/home/chandu/Desktop/Cricket_Dataset/Six/six_0.mp4'\n",
    "points ='/home/chandu/Desktop/Pose Estimation/tf-pose-estimation/output/batsmen/six/six_0.pkl'\n",
    "boxes = '/home/chandu/Desktop/Pose Estimation/tf-pose-estimation/output/batsmen_box/six/six_0.pkl'\n",
    "# plot_normalize(url, points,boxes)\n",
    "plot_points(url,points)"
   ]
  },
  {
   "cell_type": "code",
   "execution_count": 3,
   "id": "appointed-contrast",
   "metadata": {},
   "outputs": [],
   "source": [
    "#url and points can be string path\n",
    "def plot_points(url, points):\n",
    "    cap = cv2.VideoCapture(url)\n",
    "    \n",
    "    point_list = pickle.load(open(points, \"rb\" ))\n",
    "    cnt=0\n",
    "    # Check if camera opened successfully\n",
    "    if (cap.isOpened()== False): \n",
    "        print(\"Error opening video stream or file\")\n",
    "    \n",
    "    ret,first_frame = cap.read()\n",
    "    color = (0, 0 , 255)\n",
    "    while(cap.isOpened()):\n",
    "    \n",
    "  # Capture frame-by-frame\n",
    "        ret, frame = cap.read()\n",
    "     \n",
    "        if ret == True:\n",
    "            body = point_list[cnt]\n",
    "            for p in body.body_parts:\n",
    "                center = (int(body.body_parts.get(p).x *1280 + 0.5), int(body.body_parts.get(p).y*720 + 0.5))\n",
    "                frame = cv2.circle(frame, center, 3, color, thickness=1, lineType=8, shift=0)\n",
    "            cv2.imwrite('temp/'+str(cnt)+'.png',frame)\n",
    "            cnt=cnt+1\n",
    "            \n",
    "#             cv2.imwrite('temp/'+str(cnt)+'.png',frame)\n",
    "\n",
    "  # Break the loop\n",
    "        else:\n",
    "            break\n",
    "\n",
    "    cv2.destroyAllWindows()\n"
   ]
  },
  {
   "cell_type": "code",
   "execution_count": 2,
   "id": "complimentary-orbit",
   "metadata": {},
   "outputs": [],
   "source": [
    "#url and points can be string path\n",
    "def plot_normalize(url, points,boxes):\n",
    "    cap = cv2.VideoCapture(url)\n",
    "    \n",
    "    point_list = pickle.load(open(points, \"rb\" ))\n",
    "    box_list = pickle.load(open(boxes,\"rb\"))\n",
    "    cnt=0\n",
    "    # Check if camera opened successfully\n",
    "    if (cap.isOpened()== False): \n",
    "        print(\"Error opening video stream or file\")\n",
    "    \n",
    "    ret,first_frame = cap.read()\n",
    "    color = (0, 255, 0)\n",
    "    w = box_list[0][2]\n",
    "    h = box_list[0][3]\n",
    "    \n",
    "    while(cap.isOpened()):\n",
    "        print(f\"{cnt} frame\")\n",
    "  # Capture frame-by-frame\n",
    "        ret, frame = cap.read()\n",
    "        if cnt == 0:\n",
    "            cv2.imwrite('temp/'+str(cnt)+'.png',frame)\n",
    "            cnt = cnt+1\n",
    "            continue\n",
    "        if ret == True:\n",
    "            body = point_list[cnt]\n",
    "            box = box_list[cnt]\n",
    "            \n",
    "            frame = cv2.resize(frame, (0,0), fx=w/box[2], fy=h/box[3])\n",
    "#            image = np.zeros((1280, 720, 3), dtype = \"uint8\")\n",
    "#             x_offset = int(box[0]*1280 - frame.shape[0]/2)\n",
    "#             y_offset = int(box[1]*720 - frame.shape[1]/2)\n",
    "#            image[x_offset:x_offset+frame.shape[0], y_offset:y_offset+frame.shape[1]] = frame\n",
    "#            frame = image\n",
    "            for p in body.body_parts:\n",
    "                center = (int(body.body_parts.get(p).x *1280 + 0.5), int(body.body_parts.get(p).y*720 + 0.5))\n",
    "                frame = cv2.circle(frame, center, 3, color, thickness=1, lineType=8, shift=0)\n",
    "            cv2.imwrite('temp/'+str(cnt)+'.png',frame)\n",
    "            cnt=cnt+1\n",
    "            \n",
    "#            cv2.imwrite('temp/'+str(cnt)+'.png',frame)\n",
    "\n",
    "  # Break the loop\n",
    "        else:\n",
    "            break\n",
    "\n",
    "    cv2.destroyAllWindows()"
   ]
  },
  {
   "cell_type": "code",
   "execution_count": 8,
   "id": "angry-parks",
   "metadata": {},
   "outputs": [],
   "source": [
    "pose_img = cv2.imread('/home/chandu/Desktop/pose_sample.png')"
   ]
  },
  {
   "cell_type": "code",
   "execution_count": 20,
   "id": "mineral-printer",
   "metadata": {},
   "outputs": [],
   "source": [
    "cv2.imshow(\"pose\",pose_img)"
   ]
  },
  {
   "cell_type": "code",
   "execution_count": 9,
   "id": "automatic-survey",
   "metadata": {},
   "outputs": [
    {
     "data": {
      "text/plain": [
       "True"
      ]
     },
     "execution_count": 9,
     "metadata": {},
     "output_type": "execute_result"
    }
   ],
   "source": [
    "pose_img = cv2.rectangle(pose_img,(512,72),(768,288),(225,99,71),3)\n",
    "cv2.imwrite('/home/chandu/Desktop/pose_box.png',pose_img)"
   ]
  },
  {
   "cell_type": "code",
   "execution_count": null,
   "id": "narrow-forwarding",
   "metadata": {},
   "outputs": [],
   "source": []
  }
 ],
 "metadata": {
  "kernelspec": {
   "display_name": "Python 3",
   "language": "python",
   "name": "python3"
  },
  "language_info": {
   "codemirror_mode": {
    "name": "ipython",
    "version": 3
   },
   "file_extension": ".py",
   "mimetype": "text/x-python",
   "name": "python",
   "nbconvert_exporter": "python",
   "pygments_lexer": "ipython3",
   "version": "3.8.5"
  }
 },
 "nbformat": 4,
 "nbformat_minor": 5
}
