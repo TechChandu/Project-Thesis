{
 "cells": [
  {
   "cell_type": "code",
   "execution_count": 1,
   "id": "reflected-musician",
   "metadata": {},
   "outputs": [],
   "source": [
    "import os\n",
    "import pickle \n",
    "from pathlib import Path\n",
    "import statistics \n",
    "import math\n",
    "\n",
    "dirpath = '/home/chandu/Desktop/Cricket_Dataset/Misshit/'\n",
    "\n",
    "paths = sorted(Path(dirpath).iterdir(), key=os.path.getmtime)"
   ]
  },
  {
   "cell_type": "code",
   "execution_count": 2,
   "id": "fiscal-tracker",
   "metadata": {},
   "outputs": [],
   "source": [
    "for path in paths:\n",
    "    os.system('python3 detect.py --source '+str(path)+' --save-txt')"
   ]
  },
  {
   "cell_type": "code",
   "execution_count": 2,
   "id": "coated-petite",
   "metadata": {},
   "outputs": [
    {
     "data": {
      "text/plain": [
       "256"
      ]
     },
     "execution_count": 2,
     "metadata": {},
     "output_type": "execute_result"
    }
   ],
   "source": [
    "os.system('python3 detect.py --source '+str('/home/chandu/Desktop/Cricket_Dataset/Misshit/miss_1.mp4'))"
   ]
  },
  {
   "cell_type": "code",
   "execution_count": null,
   "id": "distinct-bailey",
   "metadata": {},
   "outputs": [],
   "source": []
  }
 ],
 "metadata": {
  "kernelspec": {
   "display_name": "Python 3",
   "language": "python",
   "name": "python3"
  },
  "language_info": {
   "codemirror_mode": {
    "name": "ipython",
    "version": 3
   },
   "file_extension": ".py",
   "mimetype": "text/x-python",
   "name": "python",
   "nbconvert_exporter": "python",
   "pygments_lexer": "ipython3",
   "version": "3.9.2"
  }
 },
 "nbformat": 4,
 "nbformat_minor": 5
}
